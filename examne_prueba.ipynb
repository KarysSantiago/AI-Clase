{
  "nbformat": 4,
  "nbformat_minor": 0,
  "metadata": {
    "colab": {
      "provenance": [],
      "mount_file_id": "1QG3pPg2w69fWDHTlrgaWh6gsOhxfDDVN",
      "authorship_tag": "ABX9TyMQUFH4mIE0CPk2OpRSstp2",
      "include_colab_link": true
    },
    "kernelspec": {
      "name": "python3",
      "display_name": "Python 3"
    },
    "language_info": {
      "name": "python"
    }
  },
  "cells": [
    {
      "cell_type": "markdown",
      "metadata": {
        "id": "view-in-github",
        "colab_type": "text"
      },
      "source": [
        "<a href=\"https://colab.research.google.com/github/KarysSantiago/AI-Clase/blob/main/examne_prueba.ipynb\" target=\"_parent\"><img src=\"https://colab.research.google.com/assets/colab-badge.svg\" alt=\"Open In Colab\"/></a>"
      ]
    },
    {
      "cell_type": "code",
      "execution_count": 35,
      "metadata": {
        "id": "lqvtmUpKHHDi"
      },
      "outputs": [],
      "source": [
        "import pandas as pd\n",
        "import numpy as np\n",
        "import matplotlib.pyplot as plt\n",
        "import seaborn as sns\n",
        "\n",
        "from sklearn.datasets import make_classification\n",
        "\n",
        "from sklearn.model_selection import train_test_split\n",
        "from sklearn.linear_model import LogisticRegression\n",
        "from sklearn.metrics import confusion_matrix\n",
        "from sklearn.metrics import recall_score, accuracy_score\n",
        "\n",
        "from sklearn.metrics import classification_report, make_scorer\n",
        "from imblearn.metrics import geometric_mean_score, classification_report_imbalanced\n",
        "from sklearn.model_selection import  cross_validate,  RepeatedStratifiedKFold"
      ]
    },
    {
      "cell_type": "code",
      "source": [
        "df = pd.read_csv('/content/drive/MyDrive/Curso IA/german_credit.csv')\n",
        "display(df)"
      ],
      "metadata": {
        "colab": {
          "base_uri": "https://localhost:8080/",
          "height": 843
        },
        "id": "cbJrRSMLKTpV",
        "outputId": "1cc308fc-9463-40f6-8fc1-32266fed1618"
      },
      "execution_count": 13,
      "outputs": [
        {
          "output_type": "display_data",
          "data": {
            "text/plain": [
              "                                         status  duration  \\\n",
              "0                           no checking account        18   \n",
              "1                           no checking account         9   \n",
              "2                                    ... < 0 DM        12   \n",
              "3                           no checking account        12   \n",
              "4                           no checking account        12   \n",
              "..                                          ...       ...   \n",
              "995                         no checking account        24   \n",
              "996                         no checking account        24   \n",
              "997  ... >= 200 DM / salary for at least 1 year        21   \n",
              "998                                  ... < 0 DM        12   \n",
              "999                         no checking account        30   \n",
              "\n",
              "                                  credit_history              purpose  amount  \\\n",
              "0        all credits at this bank paid back duly           car (used)    1049   \n",
              "1        all credits at this bank paid back duly               others    2799   \n",
              "2    no credits taken/all credits paid back duly           retraining     841   \n",
              "3        all credits at this bank paid back duly               others    2122   \n",
              "4        all credits at this bank paid back duly               others    2171   \n",
              "..                                           ...                  ...     ...   \n",
              "995  no credits taken/all credits paid back duly  furniture/equipment    1987   \n",
              "996  no credits taken/all credits paid back duly               others    2303   \n",
              "997      all credits at this bank paid back duly               others   12680   \n",
              "998  no credits taken/all credits paid back duly  furniture/equipment    6468   \n",
              "999  no credits taken/all credits paid back duly           car (used)    6350   \n",
              "\n",
              "                        savings employment_duration installment_rate  \\\n",
              "0    unknown/no savings account              < 1 yr             < 20   \n",
              "1    unknown/no savings account    1 <= ... < 4 yrs   25 <= ... < 35   \n",
              "2                 ... <  100 DM    4 <= ... < 7 yrs   25 <= ... < 35   \n",
              "3    unknown/no savings account    1 <= ... < 4 yrs   20 <= ... < 25   \n",
              "4    unknown/no savings account    1 <= ... < 4 yrs             < 20   \n",
              "..                          ...                 ...              ...   \n",
              "995  unknown/no savings account    1 <= ... < 4 yrs   25 <= ... < 35   \n",
              "996  unknown/no savings account            >= 7 yrs             < 20   \n",
              "997              ... >= 1000 DM            >= 7 yrs             < 20   \n",
              "998              ... >= 1000 DM          unemployed   25 <= ... < 35   \n",
              "999              ... >= 1000 DM            >= 7 yrs             < 20   \n",
              "\n",
              "                      personal_status_sex other_debtors  ...  \\\n",
              "0    female : non-single or male : single          none  ...   \n",
              "1                  male : married/widowed          none  ...   \n",
              "2    female : non-single or male : single          none  ...   \n",
              "3                  male : married/widowed          none  ...   \n",
              "4                  male : married/widowed          none  ...   \n",
              "..                                    ...           ...  ...   \n",
              "995                male : married/widowed          none  ...   \n",
              "996                male : married/widowed  co-applicant  ...   \n",
              "997                male : married/widowed          none  ...   \n",
              "998                male : married/widowed          none  ...   \n",
              "999                male : married/widowed          none  ...   \n",
              "\n",
              "                  property age  other_installment_plans   housing  \\\n",
              "0             car or other  21                     none  for free   \n",
              "1    unknown / no property  36                     none  for free   \n",
              "2    unknown / no property  23                     none  for free   \n",
              "3    unknown / no property  39                     none  for free   \n",
              "4             car or other  38                     bank      rent   \n",
              "..                     ...  ..                      ...       ...   \n",
              "995  unknown / no property  21                     none  for free   \n",
              "996  unknown / no property  45                     none      rent   \n",
              "997            real estate  30                     none       own   \n",
              "998            real estate  52                     none      rent   \n",
              "999           car or other  31                     none      rent   \n",
              "\n",
              "    number_credits                                         job people_liable  \\\n",
              "0                1                   skilled employee/official        0 to 2   \n",
              "1            3-Feb                   skilled employee/official     3 or more   \n",
              "2                1                        unskilled - resident        0 to 2   \n",
              "3            3-Feb                        unskilled - resident     3 or more   \n",
              "4            3-Feb                        unskilled - resident        0 to 2   \n",
              "..             ...                                         ...           ...   \n",
              "995              1                        unskilled - resident     3 or more   \n",
              "996              1                   skilled employee/official        0 to 2   \n",
              "997              1  manager/self-empl./highly qualif. employee        0 to 2   \n",
              "998              1  manager/self-empl./highly qualif. employee        0 to 2   \n",
              "999              1                   skilled employee/official        0 to 2   \n",
              "\n",
              "                     telephone foreign_worker credit_risk  \n",
              "0                           no             no        good  \n",
              "1                           no             no        good  \n",
              "2                           no             no        good  \n",
              "3                           no            yes        good  \n",
              "4                           no            yes        good  \n",
              "..                         ...            ...         ...  \n",
              "995                         no             no         bad  \n",
              "996                         no             no         bad  \n",
              "997  yes (under customer name)             no         bad  \n",
              "998  yes (under customer name)             no         bad  \n",
              "999                         no             no         bad  \n",
              "\n",
              "[1000 rows x 21 columns]"
            ],
            "text/html": [
              "\n",
              "  <div id=\"df-7ea18b38-a780-49c4-8f73-a2d52a102609\" class=\"colab-df-container\">\n",
              "    <div>\n",
              "<style scoped>\n",
              "    .dataframe tbody tr th:only-of-type {\n",
              "        vertical-align: middle;\n",
              "    }\n",
              "\n",
              "    .dataframe tbody tr th {\n",
              "        vertical-align: top;\n",
              "    }\n",
              "\n",
              "    .dataframe thead th {\n",
              "        text-align: right;\n",
              "    }\n",
              "</style>\n",
              "<table border=\"1\" class=\"dataframe\">\n",
              "  <thead>\n",
              "    <tr style=\"text-align: right;\">\n",
              "      <th></th>\n",
              "      <th>status</th>\n",
              "      <th>duration</th>\n",
              "      <th>credit_history</th>\n",
              "      <th>purpose</th>\n",
              "      <th>amount</th>\n",
              "      <th>savings</th>\n",
              "      <th>employment_duration</th>\n",
              "      <th>installment_rate</th>\n",
              "      <th>personal_status_sex</th>\n",
              "      <th>other_debtors</th>\n",
              "      <th>...</th>\n",
              "      <th>property</th>\n",
              "      <th>age</th>\n",
              "      <th>other_installment_plans</th>\n",
              "      <th>housing</th>\n",
              "      <th>number_credits</th>\n",
              "      <th>job</th>\n",
              "      <th>people_liable</th>\n",
              "      <th>telephone</th>\n",
              "      <th>foreign_worker</th>\n",
              "      <th>credit_risk</th>\n",
              "    </tr>\n",
              "  </thead>\n",
              "  <tbody>\n",
              "    <tr>\n",
              "      <th>0</th>\n",
              "      <td>no checking account</td>\n",
              "      <td>18</td>\n",
              "      <td>all credits at this bank paid back duly</td>\n",
              "      <td>car (used)</td>\n",
              "      <td>1049</td>\n",
              "      <td>unknown/no savings account</td>\n",
              "      <td>&lt; 1 yr</td>\n",
              "      <td>&lt; 20</td>\n",
              "      <td>female : non-single or male : single</td>\n",
              "      <td>none</td>\n",
              "      <td>...</td>\n",
              "      <td>car or other</td>\n",
              "      <td>21</td>\n",
              "      <td>none</td>\n",
              "      <td>for free</td>\n",
              "      <td>1</td>\n",
              "      <td>skilled employee/official</td>\n",
              "      <td>0 to 2</td>\n",
              "      <td>no</td>\n",
              "      <td>no</td>\n",
              "      <td>good</td>\n",
              "    </tr>\n",
              "    <tr>\n",
              "      <th>1</th>\n",
              "      <td>no checking account</td>\n",
              "      <td>9</td>\n",
              "      <td>all credits at this bank paid back duly</td>\n",
              "      <td>others</td>\n",
              "      <td>2799</td>\n",
              "      <td>unknown/no savings account</td>\n",
              "      <td>1 &lt;= ... &lt; 4 yrs</td>\n",
              "      <td>25 &lt;= ... &lt; 35</td>\n",
              "      <td>male : married/widowed</td>\n",
              "      <td>none</td>\n",
              "      <td>...</td>\n",
              "      <td>unknown / no property</td>\n",
              "      <td>36</td>\n",
              "      <td>none</td>\n",
              "      <td>for free</td>\n",
              "      <td>3-Feb</td>\n",
              "      <td>skilled employee/official</td>\n",
              "      <td>3 or more</td>\n",
              "      <td>no</td>\n",
              "      <td>no</td>\n",
              "      <td>good</td>\n",
              "    </tr>\n",
              "    <tr>\n",
              "      <th>2</th>\n",
              "      <td>... &lt; 0 DM</td>\n",
              "      <td>12</td>\n",
              "      <td>no credits taken/all credits paid back duly</td>\n",
              "      <td>retraining</td>\n",
              "      <td>841</td>\n",
              "      <td>... &lt;  100 DM</td>\n",
              "      <td>4 &lt;= ... &lt; 7 yrs</td>\n",
              "      <td>25 &lt;= ... &lt; 35</td>\n",
              "      <td>female : non-single or male : single</td>\n",
              "      <td>none</td>\n",
              "      <td>...</td>\n",
              "      <td>unknown / no property</td>\n",
              "      <td>23</td>\n",
              "      <td>none</td>\n",
              "      <td>for free</td>\n",
              "      <td>1</td>\n",
              "      <td>unskilled - resident</td>\n",
              "      <td>0 to 2</td>\n",
              "      <td>no</td>\n",
              "      <td>no</td>\n",
              "      <td>good</td>\n",
              "    </tr>\n",
              "    <tr>\n",
              "      <th>3</th>\n",
              "      <td>no checking account</td>\n",
              "      <td>12</td>\n",
              "      <td>all credits at this bank paid back duly</td>\n",
              "      <td>others</td>\n",
              "      <td>2122</td>\n",
              "      <td>unknown/no savings account</td>\n",
              "      <td>1 &lt;= ... &lt; 4 yrs</td>\n",
              "      <td>20 &lt;= ... &lt; 25</td>\n",
              "      <td>male : married/widowed</td>\n",
              "      <td>none</td>\n",
              "      <td>...</td>\n",
              "      <td>unknown / no property</td>\n",
              "      <td>39</td>\n",
              "      <td>none</td>\n",
              "      <td>for free</td>\n",
              "      <td>3-Feb</td>\n",
              "      <td>unskilled - resident</td>\n",
              "      <td>3 or more</td>\n",
              "      <td>no</td>\n",
              "      <td>yes</td>\n",
              "      <td>good</td>\n",
              "    </tr>\n",
              "    <tr>\n",
              "      <th>4</th>\n",
              "      <td>no checking account</td>\n",
              "      <td>12</td>\n",
              "      <td>all credits at this bank paid back duly</td>\n",
              "      <td>others</td>\n",
              "      <td>2171</td>\n",
              "      <td>unknown/no savings account</td>\n",
              "      <td>1 &lt;= ... &lt; 4 yrs</td>\n",
              "      <td>&lt; 20</td>\n",
              "      <td>male : married/widowed</td>\n",
              "      <td>none</td>\n",
              "      <td>...</td>\n",
              "      <td>car or other</td>\n",
              "      <td>38</td>\n",
              "      <td>bank</td>\n",
              "      <td>rent</td>\n",
              "      <td>3-Feb</td>\n",
              "      <td>unskilled - resident</td>\n",
              "      <td>0 to 2</td>\n",
              "      <td>no</td>\n",
              "      <td>yes</td>\n",
              "      <td>good</td>\n",
              "    </tr>\n",
              "    <tr>\n",
              "      <th>...</th>\n",
              "      <td>...</td>\n",
              "      <td>...</td>\n",
              "      <td>...</td>\n",
              "      <td>...</td>\n",
              "      <td>...</td>\n",
              "      <td>...</td>\n",
              "      <td>...</td>\n",
              "      <td>...</td>\n",
              "      <td>...</td>\n",
              "      <td>...</td>\n",
              "      <td>...</td>\n",
              "      <td>...</td>\n",
              "      <td>...</td>\n",
              "      <td>...</td>\n",
              "      <td>...</td>\n",
              "      <td>...</td>\n",
              "      <td>...</td>\n",
              "      <td>...</td>\n",
              "      <td>...</td>\n",
              "      <td>...</td>\n",
              "      <td>...</td>\n",
              "    </tr>\n",
              "    <tr>\n",
              "      <th>995</th>\n",
              "      <td>no checking account</td>\n",
              "      <td>24</td>\n",
              "      <td>no credits taken/all credits paid back duly</td>\n",
              "      <td>furniture/equipment</td>\n",
              "      <td>1987</td>\n",
              "      <td>unknown/no savings account</td>\n",
              "      <td>1 &lt;= ... &lt; 4 yrs</td>\n",
              "      <td>25 &lt;= ... &lt; 35</td>\n",
              "      <td>male : married/widowed</td>\n",
              "      <td>none</td>\n",
              "      <td>...</td>\n",
              "      <td>unknown / no property</td>\n",
              "      <td>21</td>\n",
              "      <td>none</td>\n",
              "      <td>for free</td>\n",
              "      <td>1</td>\n",
              "      <td>unskilled - resident</td>\n",
              "      <td>3 or more</td>\n",
              "      <td>no</td>\n",
              "      <td>no</td>\n",
              "      <td>bad</td>\n",
              "    </tr>\n",
              "    <tr>\n",
              "      <th>996</th>\n",
              "      <td>no checking account</td>\n",
              "      <td>24</td>\n",
              "      <td>no credits taken/all credits paid back duly</td>\n",
              "      <td>others</td>\n",
              "      <td>2303</td>\n",
              "      <td>unknown/no savings account</td>\n",
              "      <td>&gt;= 7 yrs</td>\n",
              "      <td>&lt; 20</td>\n",
              "      <td>male : married/widowed</td>\n",
              "      <td>co-applicant</td>\n",
              "      <td>...</td>\n",
              "      <td>unknown / no property</td>\n",
              "      <td>45</td>\n",
              "      <td>none</td>\n",
              "      <td>rent</td>\n",
              "      <td>1</td>\n",
              "      <td>skilled employee/official</td>\n",
              "      <td>0 to 2</td>\n",
              "      <td>no</td>\n",
              "      <td>no</td>\n",
              "      <td>bad</td>\n",
              "    </tr>\n",
              "    <tr>\n",
              "      <th>997</th>\n",
              "      <td>... &gt;= 200 DM / salary for at least 1 year</td>\n",
              "      <td>21</td>\n",
              "      <td>all credits at this bank paid back duly</td>\n",
              "      <td>others</td>\n",
              "      <td>12680</td>\n",
              "      <td>... &gt;= 1000 DM</td>\n",
              "      <td>&gt;= 7 yrs</td>\n",
              "      <td>&lt; 20</td>\n",
              "      <td>male : married/widowed</td>\n",
              "      <td>none</td>\n",
              "      <td>...</td>\n",
              "      <td>real estate</td>\n",
              "      <td>30</td>\n",
              "      <td>none</td>\n",
              "      <td>own</td>\n",
              "      <td>1</td>\n",
              "      <td>manager/self-empl./highly qualif. employee</td>\n",
              "      <td>0 to 2</td>\n",
              "      <td>yes (under customer name)</td>\n",
              "      <td>no</td>\n",
              "      <td>bad</td>\n",
              "    </tr>\n",
              "    <tr>\n",
              "      <th>998</th>\n",
              "      <td>... &lt; 0 DM</td>\n",
              "      <td>12</td>\n",
              "      <td>no credits taken/all credits paid back duly</td>\n",
              "      <td>furniture/equipment</td>\n",
              "      <td>6468</td>\n",
              "      <td>... &gt;= 1000 DM</td>\n",
              "      <td>unemployed</td>\n",
              "      <td>25 &lt;= ... &lt; 35</td>\n",
              "      <td>male : married/widowed</td>\n",
              "      <td>none</td>\n",
              "      <td>...</td>\n",
              "      <td>real estate</td>\n",
              "      <td>52</td>\n",
              "      <td>none</td>\n",
              "      <td>rent</td>\n",
              "      <td>1</td>\n",
              "      <td>manager/self-empl./highly qualif. employee</td>\n",
              "      <td>0 to 2</td>\n",
              "      <td>yes (under customer name)</td>\n",
              "      <td>no</td>\n",
              "      <td>bad</td>\n",
              "    </tr>\n",
              "    <tr>\n",
              "      <th>999</th>\n",
              "      <td>no checking account</td>\n",
              "      <td>30</td>\n",
              "      <td>no credits taken/all credits paid back duly</td>\n",
              "      <td>car (used)</td>\n",
              "      <td>6350</td>\n",
              "      <td>... &gt;= 1000 DM</td>\n",
              "      <td>&gt;= 7 yrs</td>\n",
              "      <td>&lt; 20</td>\n",
              "      <td>male : married/widowed</td>\n",
              "      <td>none</td>\n",
              "      <td>...</td>\n",
              "      <td>car or other</td>\n",
              "      <td>31</td>\n",
              "      <td>none</td>\n",
              "      <td>rent</td>\n",
              "      <td>1</td>\n",
              "      <td>skilled employee/official</td>\n",
              "      <td>0 to 2</td>\n",
              "      <td>no</td>\n",
              "      <td>no</td>\n",
              "      <td>bad</td>\n",
              "    </tr>\n",
              "  </tbody>\n",
              "</table>\n",
              "<p>1000 rows × 21 columns</p>\n",
              "</div>\n",
              "    <div class=\"colab-df-buttons\">\n",
              "\n",
              "  <div class=\"colab-df-container\">\n",
              "    <button class=\"colab-df-convert\" onclick=\"convertToInteractive('df-7ea18b38-a780-49c4-8f73-a2d52a102609')\"\n",
              "            title=\"Convert this dataframe to an interactive table.\"\n",
              "            style=\"display:none;\">\n",
              "\n",
              "  <svg xmlns=\"http://www.w3.org/2000/svg\" height=\"24px\" viewBox=\"0 -960 960 960\">\n",
              "    <path d=\"M120-120v-720h720v720H120Zm60-500h600v-160H180v160Zm220 220h160v-160H400v160Zm0 220h160v-160H400v160ZM180-400h160v-160H180v160Zm440 0h160v-160H620v160ZM180-180h160v-160H180v160Zm440 0h160v-160H620v160Z\"/>\n",
              "  </svg>\n",
              "    </button>\n",
              "\n",
              "  <style>\n",
              "    .colab-df-container {\n",
              "      display:flex;\n",
              "      gap: 12px;\n",
              "    }\n",
              "\n",
              "    .colab-df-convert {\n",
              "      background-color: #E8F0FE;\n",
              "      border: none;\n",
              "      border-radius: 50%;\n",
              "      cursor: pointer;\n",
              "      display: none;\n",
              "      fill: #1967D2;\n",
              "      height: 32px;\n",
              "      padding: 0 0 0 0;\n",
              "      width: 32px;\n",
              "    }\n",
              "\n",
              "    .colab-df-convert:hover {\n",
              "      background-color: #E2EBFA;\n",
              "      box-shadow: 0px 1px 2px rgba(60, 64, 67, 0.3), 0px 1px 3px 1px rgba(60, 64, 67, 0.15);\n",
              "      fill: #174EA6;\n",
              "    }\n",
              "\n",
              "    .colab-df-buttons div {\n",
              "      margin-bottom: 4px;\n",
              "    }\n",
              "\n",
              "    [theme=dark] .colab-df-convert {\n",
              "      background-color: #3B4455;\n",
              "      fill: #D2E3FC;\n",
              "    }\n",
              "\n",
              "    [theme=dark] .colab-df-convert:hover {\n",
              "      background-color: #434B5C;\n",
              "      box-shadow: 0px 1px 3px 1px rgba(0, 0, 0, 0.15);\n",
              "      filter: drop-shadow(0px 1px 2px rgba(0, 0, 0, 0.3));\n",
              "      fill: #FFFFFF;\n",
              "    }\n",
              "  </style>\n",
              "\n",
              "    <script>\n",
              "      const buttonEl =\n",
              "        document.querySelector('#df-7ea18b38-a780-49c4-8f73-a2d52a102609 button.colab-df-convert');\n",
              "      buttonEl.style.display =\n",
              "        google.colab.kernel.accessAllowed ? 'block' : 'none';\n",
              "\n",
              "      async function convertToInteractive(key) {\n",
              "        const element = document.querySelector('#df-7ea18b38-a780-49c4-8f73-a2d52a102609');\n",
              "        const dataTable =\n",
              "          await google.colab.kernel.invokeFunction('convertToInteractive',\n",
              "                                                    [key], {});\n",
              "        if (!dataTable) return;\n",
              "\n",
              "        const docLinkHtml = 'Like what you see? Visit the ' +\n",
              "          '<a target=\"_blank\" href=https://colab.research.google.com/notebooks/data_table.ipynb>data table notebook</a>'\n",
              "          + ' to learn more about interactive tables.';\n",
              "        element.innerHTML = '';\n",
              "        dataTable['output_type'] = 'display_data';\n",
              "        await google.colab.output.renderOutput(dataTable, element);\n",
              "        const docLink = document.createElement('div');\n",
              "        docLink.innerHTML = docLinkHtml;\n",
              "        element.appendChild(docLink);\n",
              "      }\n",
              "    </script>\n",
              "  </div>\n",
              "\n",
              "\n",
              "    <div id=\"df-d8de21c2-fe3d-4886-aeec-409c2996508b\">\n",
              "      <button class=\"colab-df-quickchart\" onclick=\"quickchart('df-d8de21c2-fe3d-4886-aeec-409c2996508b')\"\n",
              "                title=\"Suggest charts\"\n",
              "                style=\"display:none;\">\n",
              "\n",
              "<svg xmlns=\"http://www.w3.org/2000/svg\" height=\"24px\"viewBox=\"0 0 24 24\"\n",
              "     width=\"24px\">\n",
              "    <g>\n",
              "        <path d=\"M19 3H5c-1.1 0-2 .9-2 2v14c0 1.1.9 2 2 2h14c1.1 0 2-.9 2-2V5c0-1.1-.9-2-2-2zM9 17H7v-7h2v7zm4 0h-2V7h2v10zm4 0h-2v-4h2v4z\"/>\n",
              "    </g>\n",
              "</svg>\n",
              "      </button>\n",
              "\n",
              "<style>\n",
              "  .colab-df-quickchart {\n",
              "      --bg-color: #E8F0FE;\n",
              "      --fill-color: #1967D2;\n",
              "      --hover-bg-color: #E2EBFA;\n",
              "      --hover-fill-color: #174EA6;\n",
              "      --disabled-fill-color: #AAA;\n",
              "      --disabled-bg-color: #DDD;\n",
              "  }\n",
              "\n",
              "  [theme=dark] .colab-df-quickchart {\n",
              "      --bg-color: #3B4455;\n",
              "      --fill-color: #D2E3FC;\n",
              "      --hover-bg-color: #434B5C;\n",
              "      --hover-fill-color: #FFFFFF;\n",
              "      --disabled-bg-color: #3B4455;\n",
              "      --disabled-fill-color: #666;\n",
              "  }\n",
              "\n",
              "  .colab-df-quickchart {\n",
              "    background-color: var(--bg-color);\n",
              "    border: none;\n",
              "    border-radius: 50%;\n",
              "    cursor: pointer;\n",
              "    display: none;\n",
              "    fill: var(--fill-color);\n",
              "    height: 32px;\n",
              "    padding: 0;\n",
              "    width: 32px;\n",
              "  }\n",
              "\n",
              "  .colab-df-quickchart:hover {\n",
              "    background-color: var(--hover-bg-color);\n",
              "    box-shadow: 0 1px 2px rgba(60, 64, 67, 0.3), 0 1px 3px 1px rgba(60, 64, 67, 0.15);\n",
              "    fill: var(--button-hover-fill-color);\n",
              "  }\n",
              "\n",
              "  .colab-df-quickchart-complete:disabled,\n",
              "  .colab-df-quickchart-complete:disabled:hover {\n",
              "    background-color: var(--disabled-bg-color);\n",
              "    fill: var(--disabled-fill-color);\n",
              "    box-shadow: none;\n",
              "  }\n",
              "\n",
              "  .colab-df-spinner {\n",
              "    border: 2px solid var(--fill-color);\n",
              "    border-color: transparent;\n",
              "    border-bottom-color: var(--fill-color);\n",
              "    animation:\n",
              "      spin 1s steps(1) infinite;\n",
              "  }\n",
              "\n",
              "  @keyframes spin {\n",
              "    0% {\n",
              "      border-color: transparent;\n",
              "      border-bottom-color: var(--fill-color);\n",
              "      border-left-color: var(--fill-color);\n",
              "    }\n",
              "    20% {\n",
              "      border-color: transparent;\n",
              "      border-left-color: var(--fill-color);\n",
              "      border-top-color: var(--fill-color);\n",
              "    }\n",
              "    30% {\n",
              "      border-color: transparent;\n",
              "      border-left-color: var(--fill-color);\n",
              "      border-top-color: var(--fill-color);\n",
              "      border-right-color: var(--fill-color);\n",
              "    }\n",
              "    40% {\n",
              "      border-color: transparent;\n",
              "      border-right-color: var(--fill-color);\n",
              "      border-top-color: var(--fill-color);\n",
              "    }\n",
              "    60% {\n",
              "      border-color: transparent;\n",
              "      border-right-color: var(--fill-color);\n",
              "    }\n",
              "    80% {\n",
              "      border-color: transparent;\n",
              "      border-right-color: var(--fill-color);\n",
              "      border-bottom-color: var(--fill-color);\n",
              "    }\n",
              "    90% {\n",
              "      border-color: transparent;\n",
              "      border-bottom-color: var(--fill-color);\n",
              "    }\n",
              "  }\n",
              "</style>\n",
              "\n",
              "      <script>\n",
              "        async function quickchart(key) {\n",
              "          const quickchartButtonEl =\n",
              "            document.querySelector('#' + key + ' button');\n",
              "          quickchartButtonEl.disabled = true;  // To prevent multiple clicks.\n",
              "          quickchartButtonEl.classList.add('colab-df-spinner');\n",
              "          try {\n",
              "            const charts = await google.colab.kernel.invokeFunction(\n",
              "                'suggestCharts', [key], {});\n",
              "          } catch (error) {\n",
              "            console.error('Error during call to suggestCharts:', error);\n",
              "          }\n",
              "          quickchartButtonEl.classList.remove('colab-df-spinner');\n",
              "          quickchartButtonEl.classList.add('colab-df-quickchart-complete');\n",
              "        }\n",
              "        (() => {\n",
              "          let quickchartButtonEl =\n",
              "            document.querySelector('#df-d8de21c2-fe3d-4886-aeec-409c2996508b button');\n",
              "          quickchartButtonEl.style.display =\n",
              "            google.colab.kernel.accessAllowed ? 'block' : 'none';\n",
              "        })();\n",
              "      </script>\n",
              "    </div>\n",
              "\n",
              "  <div id=\"id_f3ea8d94-ffec-4033-9142-0bd9cc9488ca\">\n",
              "    <style>\n",
              "      .colab-df-generate {\n",
              "        background-color: #E8F0FE;\n",
              "        border: none;\n",
              "        border-radius: 50%;\n",
              "        cursor: pointer;\n",
              "        display: none;\n",
              "        fill: #1967D2;\n",
              "        height: 32px;\n",
              "        padding: 0 0 0 0;\n",
              "        width: 32px;\n",
              "      }\n",
              "\n",
              "      .colab-df-generate:hover {\n",
              "        background-color: #E2EBFA;\n",
              "        box-shadow: 0px 1px 2px rgba(60, 64, 67, 0.3), 0px 1px 3px 1px rgba(60, 64, 67, 0.15);\n",
              "        fill: #174EA6;\n",
              "      }\n",
              "\n",
              "      [theme=dark] .colab-df-generate {\n",
              "        background-color: #3B4455;\n",
              "        fill: #D2E3FC;\n",
              "      }\n",
              "\n",
              "      [theme=dark] .colab-df-generate:hover {\n",
              "        background-color: #434B5C;\n",
              "        box-shadow: 0px 1px 3px 1px rgba(0, 0, 0, 0.15);\n",
              "        filter: drop-shadow(0px 1px 2px rgba(0, 0, 0, 0.3));\n",
              "        fill: #FFFFFF;\n",
              "      }\n",
              "    </style>\n",
              "    <button class=\"colab-df-generate\" onclick=\"generateWithVariable('df')\"\n",
              "            title=\"Generate code using this dataframe.\"\n",
              "            style=\"display:none;\">\n",
              "\n",
              "  <svg xmlns=\"http://www.w3.org/2000/svg\" height=\"24px\"viewBox=\"0 0 24 24\"\n",
              "       width=\"24px\">\n",
              "    <path d=\"M7,19H8.4L18.45,9,17,7.55,7,17.6ZM5,21V16.75L18.45,3.32a2,2,0,0,1,2.83,0l1.4,1.43a1.91,1.91,0,0,1,.58,1.4,1.91,1.91,0,0,1-.58,1.4L9.25,21ZM18.45,9,17,7.55Zm-12,3A5.31,5.31,0,0,0,4.9,8.1,5.31,5.31,0,0,0,1,6.5,5.31,5.31,0,0,0,4.9,4.9,5.31,5.31,0,0,0,6.5,1,5.31,5.31,0,0,0,8.1,4.9,5.31,5.31,0,0,0,12,6.5,5.46,5.46,0,0,0,6.5,12Z\"/>\n",
              "  </svg>\n",
              "    </button>\n",
              "    <script>\n",
              "      (() => {\n",
              "      const buttonEl =\n",
              "        document.querySelector('#id_f3ea8d94-ffec-4033-9142-0bd9cc9488ca button.colab-df-generate');\n",
              "      buttonEl.style.display =\n",
              "        google.colab.kernel.accessAllowed ? 'block' : 'none';\n",
              "\n",
              "      buttonEl.onclick = () => {\n",
              "        google.colab.notebook.generateWithVariable('df');\n",
              "      }\n",
              "      })();\n",
              "    </script>\n",
              "  </div>\n",
              "\n",
              "    </div>\n",
              "  </div>\n"
            ],
            "application/vnd.google.colaboratory.intrinsic+json": {
              "type": "dataframe",
              "variable_name": "df"
            }
          },
          "metadata": {}
        }
      ]
    },
    {
      "cell_type": "code",
      "source": [
        "print(df['credit_risk'].value_counts())"
      ],
      "metadata": {
        "colab": {
          "base_uri": "https://localhost:8080/"
        },
        "id": "KX6nSMAMKeMe",
        "outputId": "89d1ce92-fbd1-4409-f5c8-f72ff2fd84a9"
      },
      "execution_count": 7,
      "outputs": [
        {
          "output_type": "stream",
          "name": "stdout",
          "text": [
            "credit_risk\n",
            "0    700\n",
            "1    300\n",
            "Name: count, dtype: int64\n"
          ]
        }
      ]
    },
    {
      "cell_type": "code",
      "source": [
        "print(df.isnull().sum())"
      ],
      "metadata": {
        "colab": {
          "base_uri": "https://localhost:8080/"
        },
        "id": "v2UXTzmzMoph",
        "outputId": "3e485f62-2ef6-4cc5-fe4d-2e3a8132deab"
      },
      "execution_count": 11,
      "outputs": [
        {
          "output_type": "stream",
          "name": "stdout",
          "text": [
            "status                     0\n",
            "duration                   0\n",
            "credit_history             0\n",
            "purpose                    0\n",
            "amount                     0\n",
            "savings                    0\n",
            "employment_duration        0\n",
            "installment_rate           0\n",
            "personal_status_sex        0\n",
            "other_debtors              0\n",
            "present_residence          0\n",
            "property                   0\n",
            "age                        0\n",
            "other_installment_plans    0\n",
            "housing                    0\n",
            "number_credits             0\n",
            "job                        0\n",
            "people_liable              0\n",
            "telephone                  0\n",
            "foreign_worker             0\n",
            "credit_risk                0\n",
            "dtype: int64\n"
          ]
        }
      ]
    },
    {
      "cell_type": "code",
      "source": [
        "df['credit_risk'] = df['credit_risk'].map({'good': 0, 'bad': 1}) #Pasar a numero"
      ],
      "metadata": {
        "id": "wfJoS3aPMAOT"
      },
      "execution_count": 16,
      "outputs": []
    },
    {
      "cell_type": "code",
      "source": [
        "print(df.dtypes)"
      ],
      "metadata": {
        "colab": {
          "base_uri": "https://localhost:8080/"
        },
        "id": "NlifYEBMMN4g",
        "outputId": "cb954666-a702-46dd-b96b-2bf41dd9cb01"
      },
      "execution_count": 14,
      "outputs": [
        {
          "output_type": "stream",
          "name": "stdout",
          "text": [
            "status                     object\n",
            "duration                    int64\n",
            "credit_history             object\n",
            "purpose                    object\n",
            "amount                      int64\n",
            "savings                    object\n",
            "employment_duration        object\n",
            "installment_rate           object\n",
            "personal_status_sex        object\n",
            "other_debtors              object\n",
            "present_residence          object\n",
            "property                   object\n",
            "age                         int64\n",
            "other_installment_plans    object\n",
            "housing                    object\n",
            "number_credits             object\n",
            "job                        object\n",
            "people_liable              object\n",
            "telephone                  object\n",
            "foreign_worker             object\n",
            "credit_risk                object\n",
            "dtype: object\n"
          ]
        }
      ]
    },
    {
      "cell_type": "code",
      "source": [
        "print(df.describe())"
      ],
      "metadata": {
        "colab": {
          "base_uri": "https://localhost:8080/"
        },
        "id": "8pn_siniMS35",
        "outputId": "5a2dc45f-9bde-43cd-a7dd-dba0894bd71c"
      },
      "execution_count": 17,
      "outputs": [
        {
          "output_type": "stream",
          "name": "stdout",
          "text": [
            "          duration       amount         age  credit_risk\n",
            "count  1000.000000   1000.00000  1000.00000  1000.000000\n",
            "mean     20.903000   3271.24800    35.54200     0.300000\n",
            "std      12.058814   2822.75176    11.35267     0.458487\n",
            "min       4.000000    250.00000    19.00000     0.000000\n",
            "25%      12.000000   1365.50000    27.00000     0.000000\n",
            "50%      18.000000   2319.50000    33.00000     0.000000\n",
            "75%      24.000000   3972.25000    42.00000     1.000000\n",
            "max      72.000000  18424.00000    75.00000     1.000000\n"
          ]
        }
      ]
    },
    {
      "cell_type": "code",
      "source": [
        "plt.hist(df['duration'])\n",
        "plt.show()"
      ],
      "metadata": {
        "colab": {
          "base_uri": "https://localhost:8080/",
          "height": 431
        },
        "id": "ZmuEn7B8NAy7",
        "outputId": "50328ab1-f4e8-4bad-8215-f2647b1f2edb"
      },
      "execution_count": 20,
      "outputs": [
        {
          "output_type": "display_data",
          "data": {
            "text/plain": [
              "<Figure size 640x480 with 1 Axes>"
            ],
            "image/png": "[encoded data removed]"
          },
          "metadata": {}
        }
      ]
    },
    {
      "cell_type": "code",
      "source": [
        "X = df.drop(columns='credit_risk')\n",
        "y = df['credit_risk']\n",
        "\n",
        "X_train, X_test, y_train, y_test = train_test_split(X, y, test_size=0.15, random_state=42, stratify=y)"
      ],
      "metadata": {
        "id": "f0rcOoVHL17Z"
      },
      "execution_count": 8,
      "outputs": []
    },
    {
      "cell_type": "markdown",
      "source": [
        "#Pipeline"
      ],
      "metadata": {
        "id": "zpxe1_jHNaA7"
      }
    },
    {
      "cell_type": "code",
      "source": [
        "from sklearn.pipeline import Pipeline\n",
        "from sklearn.preprocessing import OneHotEncoder, MinMaxScaler\n",
        "from sklearn.compose import ColumnTransformer\n",
        "from imblearn.pipeline import make_pipeline"
      ],
      "metadata": {
        "id": "LBQF_hPeNbsq"
      },
      "execution_count": 36,
      "outputs": []
    },
    {
      "cell_type": "code",
      "source": [
        "numeric_pipeline = Pipeline([\n",
        "    ('scaler', MinMaxScaler())\n",
        "])\n",
        "\n",
        "categorical_pipeline = Pipeline([\n",
        "    ('encoder', OneHotEncoder(handle_unknown='ignore'))\n",
        "])\n",
        "\n",
        "binary_pipeline = Pipeline([\n",
        "    ('encoder', OneHotEncoder(drop='if_binary'))\n",
        "])\n",
        "categorical_vars = X.columns[X.dtypes == 'object'].tolist()\n",
        "\n",
        "preprocessor = ColumnTransformer(transformers=[\n",
        "    ('num', numeric_pipeline, ['duration','amount','age']),\n",
        "    ('cat', categorical_pipeline, categorical_vars)\n",
        "])"
      ],
      "metadata": {
        "id": "1niptGmdNcqb"
      },
      "execution_count": 33,
      "outputs": []
    },
    {
      "cell_type": "code",
      "source": [
        "def mi_accuracy(y_true, y_pred):\n",
        "    tn, fp, fn, tp = confusion_matrix(y_true, y_pred).ravel()\n",
        "    return (tp + tn) / (tp + tn + fp + fn)\n",
        "def mi_precision(y_true, y_pred):\n",
        "    tn, fp, fn, tp = confusion_matrix(y_true, y_pred).ravel()\n",
        "    return tp / (tp + fp)\n",
        "def mi_recall(y_true, y_pred):\n",
        "    tn, fp, fn, tp = confusion_matrix(y_true, y_pred).ravel()\n",
        "    return tp / (tp + fn)\n",
        "def mi_f1(y_true, y_pred):\n",
        "    tn, fp, fn, tp = confusion_matrix(y_true, y_pred).ravel()\n",
        "    precision = mi_precision(y_true, y_pred)\n",
        "    recall = mi_recall(y_true, y_pred)\n",
        "    return 2 * (precision * recall) / (precision + recall)\n",
        "def mi_gmean(y_true, y_pred):\n",
        "    tn, fp, fn, tp = confusion_matrix(y_true, y_pred).ravel()\n",
        "    recall = mi_recall(y_true, y_pred)\n",
        "    return np.sqrt(recall * (tn / (tn + fp)))\n",
        "\n"
      ],
      "metadata": {
        "id": "iSLBKhprO6WX"
      },
      "execution_count": 32,
      "outputs": []
    },
    {
      "cell_type": "code",
      "source": [
        "kfold = RepeatedStratifiedKFold(n_splits=5, n_repeats=3)"
      ],
      "metadata": {
        "id": "9lPUH4VePL1f"
      },
      "execution_count": 31,
      "outputs": []
    },
    {
      "cell_type": "code",
      "source": [
        "train_results = []\n",
        "val_results = []\n",
        "recall_scores = []\n"
      ],
      "metadata": {
        "id": "-F2QyWzvPS_O"
      },
      "execution_count": 37,
      "outputs": []
    },
    {
      "cell_type": "code",
      "source": [
        "model = LogisticRegression(class_weight='balanced', max_iter=1000)\n",
        "pipe = make_pipeline(preprocessor, model)\n",
        "\n",
        "mismetricas = {\n",
        "      'accuracy':make_scorer(mi_accuracy),\n",
        "      'recall': make_scorer(mi_recall),\n",
        "      'gmean': make_scorer(mi_gmean),\n",
        "      'precision': make_scorer(mi_precision),\n",
        "      'f1': make_scorer(mi_f1)\n",
        "  }\n",
        "\n",
        "resultadosOU = cross_validate(pipe, X, y, cv=kfold, scoring=mismetricas)"
      ],
      "metadata": {
        "id": "-wNMYHC3LCEn"
      },
      "execution_count": 39,
      "outputs": []
    },
    {
      "cell_type": "code",
      "source": [
        "for var, contexto in resultadosOU.items():\n",
        "    print(f\"{var}: {contexto.mean()}\")\n",
        "    ax = sns.boxplot(data=contexto, showmeans=False)\n",
        "    plt.show()"
      ],
      "metadata": {
        "colab": {
          "base_uri": "https://localhost:8080/",
          "height": 1000
        },
        "id": "MkkyaDDfRqni",
        "outputId": "ea1a99aa-5d4c-413d-93e4-2f23e51189f3"
      },
      "execution_count": 59,
      "outputs": [
        {
          "output_type": "stream",
          "name": "stdout",
          "text": [
            "fit_time: 0.052396027247111\n"
          ]
        },
        {
          "output_type": "display_data",
          "data": {
            "text/plain": [
              "<Figure size 640x480 with 1 Axes>"
            ],
            "image/png": "[encoded data removed]"
          },
          "metadata": {}
        },
        {
          "output_type": "stream",
          "name": "stdout",
          "text": [
            "score_time: 0.02980016072591146\n"
          ]
        },
        {
          "output_type": "display_data",
          "data": {
            "text/plain": [
              "<Figure size 640x480 with 1 Axes>"
            ],
            "image/png": "[encoded data removed]"
          },
          "metadata": {}
        },
        {
          "output_type": "stream",
          "name": "stdout",
          "text": [
            "test_accuracy: 0.7196666666666666\n"
          ]
        },
        {
          "output_type": "display_data",
          "data": {
            "text/plain": [
              "<Figure size 640x480 with 1 Axes>"
            ],
            "image/png": "[encoded data removed]"
          },
          "metadata": {}
        },
        {
          "output_type": "stream",
          "name": "stdout",
          "text": [
            "test_recall: 0.698888888888889\n"
          ]
        },
        {
          "output_type": "display_data",
          "data": {
            "text/plain": [
              "<Figure size 640x480 with 1 Axes>"
            ],
            "image/png": "[encoded data removed]"
          },
          "metadata": {}
        },
        {
          "output_type": "stream",
          "name": "stdout",
          "text": [
            "test_gmean: 0.7124273116018788\n"
          ]
        },
        {
          "output_type": "display_data",
          "data": {
            "text/plain": [
              "<Figure size 640x480 with 1 Axes>"
            ],
            "image/png": "[encoded data removed]"
          },
          "metadata": {}
        },
        {
          "output_type": "stream",
          "name": "stdout",
          "text": [
            "test_precision: 0.5251663453793813\n"
          ]
        },
        {
          "output_type": "display_data",
          "data": {
            "text/plain": [
              "<Figure size 640x480 with 1 Axes>"
            ],
            "image/png": "[encoded data removed]"
          },
          "metadata": {}
        },
        {
          "output_type": "stream",
          "name": "stdout",
          "text": [
            "test_f1: 0.5986600055888923\n"
          ]
        },
        {
          "output_type": "display_data",
          "data": {
            "text/plain": [
              "<Figure size 640x480 with 1 Axes>"
            ],
            "image/png": "[encoded data removed]"
          },
          "metadata": {}
        }
      ]
    },
    {
      "cell_type": "code",
      "source": [
        "y_pred = pipe.fit(X_train, y_train).predict(X_test)\n",
        "print(classification_report(y_test, y_pred))"
      ],
      "metadata": {
        "colab": {
          "base_uri": "https://localhost:8080/"
        },
        "id": "j5840oWRS4iS",
        "outputId": "77be3c87-d9f5-4a54-8503-a41e5ad86c6a"
      },
      "execution_count": 61,
      "outputs": [
        {
          "output_type": "stream",
          "name": "stdout",
          "text": [
            "              precision    recall  f1-score   support\n",
            "\n",
            "           0       0.82      0.74      0.78       105\n",
            "           1       0.51      0.62      0.56        45\n",
            "\n",
            "    accuracy                           0.71       150\n",
            "   macro avg       0.67      0.68      0.67       150\n",
            "weighted avg       0.73      0.71      0.71       150\n",
            "\n"
          ]
        }
      ]
    },
    {
      "cell_type": "code",
      "source": [
        "print(confusion_matrix(y_test, y_pred))"
      ],
      "metadata": {
        "colab": {
          "base_uri": "https://localhost:8080/"
        },
        "id": "lGRWBGL1TMe0",
        "outputId": "33a4eb28-979e-4364-90a4-c74646763543"
      },
      "execution_count": 62,
      "outputs": [
        {
          "output_type": "stream",
          "name": "stdout",
          "text": [
            "[[78 27]\n",
            " [17 28]]\n"
          ]
        }
      ]
    },
    {
      "cell_type": "markdown",
      "source": [
        "Conclusion es muy dificil sacar todo en 40 min, porque requiero observr que esta pasando, como se entrena y es un proceso iterativo para ajustar las cosas.\n",
        "no aplique imputacion porque no hay daatos nulos, lo ideal es hot encoding para discretizar categoricas y normalizar numericos para tener todo entre 0-1, vi mas o menos el comportamiento de las numericas y recuerdo que estaba tendido a la izq. por ello es bueno normalizar y  llevar al centro.\n",
        "Me falto divir datos 50 50 para mejorar las metricas, en general tiene un desempeño decente, mejor para predecir la clase 0 (good) hay que vajar los falso positivos"
      ],
      "metadata": {
        "id": "tk6if5bNR9gT"
      }
    }
  ]
}