{
  "nbformat": 4,
  "nbformat_minor": 0,
  "metadata": {
    "colab": {
      "provenance": [],
      "authorship_tag": "ABX9TyNiqfMCqoLUP7+jD/yKCP5B",
      "include_colab_link": true
    },
    "kernelspec": {
      "name": "python3",
      "display_name": "Python 3"
    },
    "language_info": {
      "name": "python"
    }
  },
  "cells": [
    {
      "cell_type": "markdown",
      "metadata": {
        "id": "view-in-github",
        "colab_type": "text"
      },
      "source": [
        "<a href=\"https://colab.research.google.com/github/KarysSantiago/AI-Clase/blob/main/Ejercicio1.ipynb\" target=\"_parent\"><img src=\"https://colab.research.google.com/assets/colab-badge.svg\" alt=\"Open In Colab\"/></a>"
      ]
    },
    {
      "cell_type": "markdown",
      "source": [
        "## **Resumen**\n",
        "\n",
        "No podemos definir a la Inteligencia Artificial como tal, debido a que es un área cambiante, que esta en desarrollo, más no nueva. Su objetivo es realizar tareas que imiten la inteligencia humana.\n",
        "\n",
        "La IA tiene diversas sub áres como son machine learning (ML), deep learning (DL) y generativa.\n",
        "\n",
        "ML:  Usada para crear modelos que aprendan a realizar cierto objetivo (ya sea clasificación o regresión) sin estar programados especificamente para ello.\n",
        "\n",
        "DL: Tiene multiples capas, el ejemplo mas comun redes neuronales, compuestas por capa de entrada, ocultas y la salida. Para tareas mas complejas como segmentacion semantica.\n",
        "\n",
        "Generativa: Enfocada en la creación de contenido basandose en datos antes vistos.\n",
        "\n",
        "Tipos de aprendizaje:\n",
        "\n",
        "- Supervisado: Usa datos etiquetados.\n",
        "- No supervisado: Extrae caracteristicas implicitas, no usa etiqueta.\n",
        "- Por reforzamiento: Premia las respuestas correctas, usado en robots\n",
        "- Semi-supervisado: Usa datos etiquetados y no etiquetados."
      ],
      "metadata": {
        "id": "ODFo9Ul2rvU6"
      }
    },
    {
      "cell_type": "markdown",
      "source": [
        "**¿Qué tipo de aprendizaje sería ideal para predecir la deserción estudiantil en una universidad? ¿Por qué?**\n",
        "\n",
        "Supervisado, porque necesitamos/tenemos el comportamiento descrito en los datos historicos de cantidad de alumnos que ingresan y cant. que desertan. Esto implica que la etiqueta (es decir, si un estudiante desertó o no (si tenemos datos individuales), o tal vez el porcentaje que deserta en un año) está presente en los datos.\n",
        "\n",
        "Y podramos obtener mas detalles como nivel socioeconomico, localidad, edad, num de hijo, numeros de hermanos, etc para identificar en especifico las caracteristicas que llevan más al riesgo de deserción. O solo basarnos en la cantidad."
      ],
      "metadata": {
        "id": "PCF9HW-lr0If"
      }
    },
    {
      "cell_type": "code",
      "execution_count": null,
      "metadata": {
        "id": "7HpQwsxDm7O9"
      },
      "outputs": [],
      "source": []
    }
  ]
}